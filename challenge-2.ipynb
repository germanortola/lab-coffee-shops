{
 "cells": [
  {
   "cell_type": "markdown",
   "id": "0809e785",
   "metadata": {},
   "source": [
    "# 1. Import the necessary libraries for you to be able to query 4square API"
   ]
  },
  {
   "cell_type": "code",
   "execution_count": 1,
   "id": "9b373771",
   "metadata": {},
   "outputs": [],
   "source": [
    "import requests\n",
    "import json\n",
    "import pandas as pd\n",
    "from dotenv import load_dotenv\n",
    "from getpass import getpass\n",
    "import geopandas as gpd\n",
    "from cartoframes.viz import Map, Layer, popup_element"
   ]
  },
  {
   "cell_type": "markdown",
   "id": "e94dce92",
   "metadata": {},
   "source": [
    "# 2. Get names and location of the 10 coffee places by passing Ironhack as your location"
   ]
  },
  {
   "cell_type": "code",
   "execution_count": 2,
   "id": "3039daaa",
   "metadata": {},
   "outputs": [],
   "source": [
    "token = getpass()"
   ]
  },
  {
   "cell_type": "code",
   "execution_count": 6,
   "id": "b53eaef1",
   "metadata": {},
   "outputs": [
    {
     "data": {
      "text/plain": [
       "'fsq3PJoJUQ5t+URihuVSW/DD5ASYUTtC7RzqRIcyiNvye4E='"
      ]
     },
     "execution_count": 6,
     "metadata": {},
     "output_type": "execute_result"
    }
   ],
   "source": [
    "token"
   ]
  },
  {
   "cell_type": "code",
   "execution_count": 7,
   "id": "1d72f571",
   "metadata": {},
   "outputs": [],
   "source": [
    "where = \"Barcelona, Spain\"\n",
    "\n",
    "url_geocode = \"https://geocode.xyz/41.39788,2.19040?json=1\""
   ]
  },
  {
   "cell_type": "code",
   "execution_count": 8,
   "id": "dacea65f",
   "metadata": {},
   "outputs": [
    {
     "data": {
      "text/plain": [
       "'https://geocode.xyz/41.39788,2.19040?json=1'"
      ]
     },
     "execution_count": 8,
     "metadata": {},
     "output_type": "execute_result"
    }
   ],
   "source": [
    "url_geocode"
   ]
  },
  {
   "cell_type": "code",
   "execution_count": 9,
   "id": "9ee35a59",
   "metadata": {},
   "outputs": [],
   "source": [
    "iron_lat = 41.39787654161836\n",
    "iron_lon = 2.190403976701835"
   ]
  },
  {
   "cell_type": "code",
   "execution_count": 10,
   "id": "b4d14f69",
   "metadata": {},
   "outputs": [
    {
     "data": {
      "text/plain": [
       "{'statename': {},\n",
       " 'distance': '0.010',\n",
       " 'elevation': '13',\n",
       " 'osmtags': {'wikipedia': 'ca:El Parc i la Llacuna del Poblenou',\n",
       "  'wikidata': 'Q3294440',\n",
       "  'is_in_district': 'Sant Martí',\n",
       "  'ref': '66',\n",
       "  'is_in': 'Europe, Spain, Catalunya, Barcelona, Àmbit metropolità, Barcelonès, Barcelona, Sant Martí',\n",
       "  'is_in_city': 'Barcelona',\n",
       "  'name': 'el Parc i la Llacuna del Poblenou',\n",
       "  'is_in_municipality': 'Barcelona',\n",
       "  'admin_level': '10',\n",
       "  'boundary': 'administrative',\n",
       "  'type': 'boundary'},\n",
       " 'state': 'Catalonia',\n",
       " 'latt': '41.39780',\n",
       " 'city': 'Barcelona',\n",
       " 'prov': 'ES',\n",
       " 'intersection': {'distance': '0.077',\n",
       "  'xlat': '41.3972415',\n",
       "  'xlon': '2.1907465',\n",
       "  'street2': 'Carrer de Pamplona',\n",
       "  'street1': '2º1ª A'},\n",
       " 'geocode': 'BARCELONA-VDHEZ',\n",
       " 'geonumber': '3161085383013',\n",
       " 'country': 'Spain',\n",
       " 'stnumber': '96',\n",
       " 'staddress': 'CL PAMPLONA',\n",
       " 'inlatt': '41.39788',\n",
       " 'alt': {'loc': [{'staddress': 'CL PAMPLONA',\n",
       "    'stnumber': '96',\n",
       "    'postal': '08018',\n",
       "    'latt': '41.3978',\n",
       "    'city': 'Barcelona',\n",
       "    'prov': 'Catalonia',\n",
       "    'longt': '2.19035',\n",
       "    'class': {}},\n",
       "   {'staddress': 'Pamplona',\n",
       "    'stnumber': '96',\n",
       "    'postal': {},\n",
       "    'latt': '41.3978',\n",
       "    'city': 'Barcelona',\n",
       "    'prov': 'Catalonia',\n",
       "    'longt': '2.19035',\n",
       "    'class': {}},\n",
       "   {'staddress': 'CL PAMPLONA',\n",
       "    'stnumber': '96',\n",
       "    'postal': '08018',\n",
       "    'dist': '0.010',\n",
       "    'latt': '41.3978',\n",
       "    'city': 'Barcelona',\n",
       "    'prov': 'Catalonia',\n",
       "    'longt': '2.19035',\n",
       "    'class': {}}]},\n",
       " 'timezone': 'Europe/Madrid',\n",
       " 'region': 'Barcelona, Catalonia',\n",
       " 'postal': '08018',\n",
       " 'poi': {'poilat': '41.39728',\n",
       "  'sexual_antiharassment_policy': 'yes',\n",
       "  'name': 'Razzmatazz sales 2 &amp; 3',\n",
       "  'amenity': 'nightclub',\n",
       "  'poilon': '2.19108',\n",
       "  'id': '5554720357',\n",
       "  'poidist': '0.088',\n",
       "  'sexual_antiharassment_policy_name': 'NoCallem'},\n",
       " 'longt': '2.19035',\n",
       " 'remaining_credits': {},\n",
       " 'confidence': '0.9',\n",
       " 'inlongt': '2.19040',\n",
       " 'class': {},\n",
       " 'adminareas': {'admin10': {'wikipedia': 'ca:El Parc i la Llacuna del Poblenou',\n",
       "   'wikidata': 'Q3294440',\n",
       "   'is_in_district': 'Sant Martí',\n",
       "   'ref': '66',\n",
       "   'is_in': 'Europe, Spain, Catalunya, Barcelona, Àmbit metropolità, Barcelonès, Barcelona, Sant Martí',\n",
       "   'is_in_city': 'Barcelona',\n",
       "   'name': 'el Parc i la Llacuna del Poblenou',\n",
       "   'is_in_municipality': 'Barcelona',\n",
       "   'admin_level': '10',\n",
       "   'level': '10',\n",
       "   'boundary': 'administrative',\n",
       "   'type': 'boundary'},\n",
       "  'admin7': {'population': '2246280',\n",
       "   'website': 'http://www.ccbcnes.org/',\n",
       "   'is_in_region': 'Catalunya',\n",
       "   'is_in__mbit_code': '01',\n",
       "   'name_an': 'Barcelonés',\n",
       "   'name_uk': 'Барсалунес',\n",
       "   'is_in_iso_3166_2': 'ES-CT',\n",
       "   'boundary': 'administrative',\n",
       "   'is_in_continent': 'Europe',\n",
       "   'name': 'Barcelonès',\n",
       "   'is_in_country': 'Spain',\n",
       "   'name_gl': 'Barcelonés',\n",
       "   'name_ar': 'بارسلونس',\n",
       "   'level': '7',\n",
       "   'idescat_comarca': '13',\n",
       "   'type': 'boundary',\n",
       "   'name_fr': 'Barcelonais',\n",
       "   'wikipedia': 'ca:Barcelonès',\n",
       "   'addr_country_code': 'ES',\n",
       "   'name_ja': 'バルサルネス',\n",
       "   'name_kk': 'Барселонес',\n",
       "   'short_name': 'BCN',\n",
       "   'is_in_country_code': 'ES',\n",
       "   'is_in_province_code': '08',\n",
       "   'name_oc': 'Barcelonés',\n",
       "   'is_in_province': 'Barcelona',\n",
       "   'name_ru': 'Барселонес',\n",
       "   'wikidata': 'Q15348',\n",
       "   'is_in_region_code': '09',\n",
       "   'is_in': 'Europe, Spain, Catalunya, Barcelona, Àmbit metropolità',\n",
       "   'is_in__mbit': 'Àmbit metropolità',\n",
       "   'name_ca': 'Barcelonès',\n",
       "   'name_es': 'Barcelonés',\n",
       "   'source_population': 'IDESCAT',\n",
       "   'admin_level': '7',\n",
       "   'population_date': '2012'},\n",
       "  'admin6': {'website': 'http://www.diba.es/',\n",
       "   'is_in_region': 'Catalunya',\n",
       "   'name_lt': 'Barselona',\n",
       "   'is_in_iso_3166_2': 'ES-CT',\n",
       "   'boundary': 'administrative',\n",
       "   'name_el': 'Βαρκελώνη',\n",
       "   'is_in_continent': 'Europe',\n",
       "   'name': 'Barcelona',\n",
       "   'ISO3166_2': 'ES-B',\n",
       "   'is_in_country': 'Spain',\n",
       "   'name_gl': 'Barcelona',\n",
       "   'level': '6',\n",
       "   'name_ar': 'برشلونة',\n",
       "   'type': 'boundary',\n",
       "   'name_eu': 'Bartzelona',\n",
       "   'name_fr': 'Barcelone',\n",
       "   'wikipedia': 'ca:Província de Barcelona',\n",
       "   'source': 'BDLL25, EGRN, Instituto Geográfico Nacional',\n",
       "   'short_name': 'BCN',\n",
       "   'is_in_country_code': 'ES',\n",
       "   'name_oc': 'Barcelona',\n",
       "   'name_be': 'Барселона',\n",
       "   'name_ru': 'Барселона',\n",
       "   'source_name_oc': 'ieo-bdtopoc',\n",
       "   'wikidata': 'Q81949',\n",
       "   'is_in_region_code': '09',\n",
       "   'is_in': 'Europe, Spain, Cataluña',\n",
       "   'name_ca': 'Barcelona',\n",
       "   'name_es': 'Barcelona',\n",
       "   'ine_provincia': '08',\n",
       "   'admin_level': '6',\n",
       "   'note': 'Comarcas not fully within the province: Berguedà, Osona, Selva',\n",
       "   'official_name_be': 'Правінцыя Барселона'},\n",
       "  'admin9': {'wikipedia': 'ca:Districte de Sant Martí',\n",
       "   'wikidata': 'Q250935',\n",
       "   'population': '231855',\n",
       "   'ref': '10',\n",
       "   'is_in': 'Europe, Spain, Catalunya, Barcelona, Àmbit metropolità, Barcelonès, Barcelona',\n",
       "   'is_in_city': 'Barcelona',\n",
       "   'name': 'Sant Martí',\n",
       "   'is_in_municipality': 'Barcelona',\n",
       "   'admin_level': '9',\n",
       "   'level': '9',\n",
       "   'boundary': 'administrative',\n",
       "   'type': 'boundary'},\n",
       "  'admin8': {'population': '1619337',\n",
       "   'idee_name': 'Barcelona',\n",
       "   'ine_municipio': '08019',\n",
       "   'is_in_region': 'Catalunya',\n",
       "   'is_in__mbit_code': '01',\n",
       "   'is_in_comarca_code': '13',\n",
       "   'name_lt': 'Barselona',\n",
       "   'name_uk': 'Барселона',\n",
       "   'is_in_iso_3166_2': 'ES-CT',\n",
       "   'boundary': 'administrative',\n",
       "   'name_ko': '바르셀로나',\n",
       "   'name_el': 'Βαρκελώνη',\n",
       "   'name_cs': 'Barcelona',\n",
       "   'is_in_continent': 'Europe',\n",
       "   'name': 'Barcelona',\n",
       "   'name_he': 'ברצלונה',\n",
       "   'is_in_country': 'Spain',\n",
       "   'name_gl': 'Barcelona',\n",
       "   'level': '8',\n",
       "   'type': 'boundary',\n",
       "   'wikipedia': 'ca:Barcelona',\n",
       "   'source': 'BDLL25, EGRN, Instituto Geográfico Nacional',\n",
       "   'is_in_country_code': 'ES',\n",
       "   'is_in_province_code': '08',\n",
       "   'name_oc': 'Barcelona',\n",
       "   'is_in_province': 'Barcelona',\n",
       "   'name_ru': 'Барселона',\n",
       "   'source_name_oc': 'Lo Congrès',\n",
       "   'wikidata': 'Q1492',\n",
       "   'is_in_comarca': 'Barcelonès',\n",
       "   'is_in_region_code': '09',\n",
       "   'is_in': 'Europe, Spain, Catalunya, Barcelona, Àmbit metropolità, Barcelonès',\n",
       "   'is_in__mbit': 'Àmbit metropolità',\n",
       "   'name_ca': 'Barcelona',\n",
       "   'admin_level': '8',\n",
       "   'population_date': '2009',\n",
       "   'name_eo': 'Barcelono',\n",
       "   'alt_name_gl': 'Barna',\n",
       "   'capital': '4'}},\n",
       " 'altgeocode': 'LLACUNA-VDHEZ'}"
      ]
     },
     "execution_count": 10,
     "metadata": {},
     "output_type": "execute_result"
    }
   ],
   "source": [
    "response = requests.get(url_geocode).json()\n",
    "response"
   ]
  },
  {
   "cell_type": "code",
   "execution_count": 12,
   "id": "c205b4ce",
   "metadata": {},
   "outputs": [
    {
     "data": {
      "text/plain": [
       "<Response [200]>"
      ]
     },
     "execution_count": 12,
     "metadata": {},
     "output_type": "execute_result"
    }
   ],
   "source": [
    "url = 'https://api.foursquare.com/v3/places/search'\n",
    "\n",
    "params = {\n",
    "  \t\"query\": \"coffee\",\n",
    "  \t\"ll\": \"41.39788,2.19040\",\n",
    "  \t\"open_now\": \"true\",\n",
    "  \t\"sort\":\"DISTANCE\",\n",
    "    \"limit\": 10\n",
    "}\n",
    "headers = {\n",
    "    \"accept\": \"application/json\",\n",
    "    \"Authorization\": token\n",
    "}\n",
    "response = requests.request(\"GET\", url, params=params, headers=headers)\n",
    "response"
   ]
  },
  {
   "cell_type": "code",
   "execution_count": 13,
   "id": "f1224a1a",
   "metadata": {},
   "outputs": [
    {
     "data": {
      "text/plain": [
       "10"
      ]
     },
     "execution_count": 13,
     "metadata": {},
     "output_type": "execute_result"
    }
   ],
   "source": [
    "len(response.json()[\"results\"])"
   ]
  },
  {
   "cell_type": "code",
   "execution_count": 14,
   "id": "eddd951a",
   "metadata": {},
   "outputs": [
    {
     "data": {
      "text/plain": [
       "{'fsq_id': '53e1ef97498e1c99b383dc75',\n",
       " 'categories': [{'id': 11130,\n",
       "   'name': 'Office Building',\n",
       "   'icon': {'prefix': 'https://ss3.4sqi.net/img/categories_v2/building/default_',\n",
       "    'suffix': '.png'}}],\n",
       " 'chains': [],\n",
       " 'distance': 129,\n",
       " 'geocodes': {'main': {'latitude': 41.396993, 'longitude': 2.191171},\n",
       "  'roof': {'latitude': 41.396993, 'longitude': 2.191171}},\n",
       " 'link': '/v3/places/53e1ef97498e1c99b383dc75',\n",
       " 'location': {'address': 'Carrer Pamplona, 88',\n",
       "  'admin_region': 'Cataluña',\n",
       "  'country': 'ES',\n",
       "  'cross_street': '',\n",
       "  'formatted_address': 'Carrer Pamplona, 88, 08018 Barcelona Catalonia',\n",
       "  'locality': 'Barcelona',\n",
       "  'postcode': '08018',\n",
       "  'region': 'Catalonia'},\n",
       " 'name': 'Espacio 88',\n",
       " 'related_places': {},\n",
       " 'timezone': 'Europe/Madrid'}"
      ]
     },
     "execution_count": 14,
     "metadata": {},
     "output_type": "execute_result"
    }
   ],
   "source": [
    "response.json()[\"results\"][0]"
   ]
  },
  {
   "cell_type": "code",
   "execution_count": 15,
   "id": "0b1954ab",
   "metadata": {},
   "outputs": [
    {
     "data": {
      "text/plain": [
       "{'latitude': 41.396993, 'longitude': 2.191171}"
      ]
     },
     "execution_count": 15,
     "metadata": {},
     "output_type": "execute_result"
    }
   ],
   "source": [
    "coordinates = response.json()[\"results\"][0][\"geocodes\"][\"main\"]\n",
    "coordinates"
   ]
  },
  {
   "cell_type": "markdown",
   "id": "941b5dbf",
   "metadata": {},
   "source": [
    "# 3. Now get the 5 CLOSEST coffe places. Make use of params: limit, near?"
   ]
  },
  {
   "cell_type": "code",
   "execution_count": 1,
   "id": "fda8ddff",
   "metadata": {},
   "outputs": [],
   "source": [
    "# your code here"
   ]
  },
  {
   "cell_type": "markdown",
   "id": "d19904e8",
   "metadata": {},
   "source": [
    "# 4. Define a function that returns name, lat, long for starbucks OR restaurants AND for any given location"
   ]
  },
  {
   "cell_type": "code",
   "execution_count": 3,
   "id": "1fad5153",
   "metadata": {},
   "outputs": [],
   "source": [
    "def foursquare_places (venue, coordinates):\n",
    "    pass"
   ]
  },
  {
   "cell_type": "markdown",
   "id": "1836c1a1",
   "metadata": {},
   "source": [
    "# 5. Export it into data folder as a json: `data/coffe_shops.json`"
   ]
  },
  {
   "cell_type": "code",
   "execution_count": null,
   "id": "7ac5f2a8",
   "metadata": {},
   "outputs": [],
   "source": [
    "# your code here"
   ]
  },
  {
   "cell_type": "markdown",
   "id": "2d77e99d",
   "metadata": {},
   "source": [
    "# BONUS: load it into MongoDB in a collection named \"ironcoffee\" using pymongo"
   ]
  },
  {
   "cell_type": "code",
   "execution_count": null,
   "id": "85b94955",
   "metadata": {},
   "outputs": [],
   "source": [
    "# your code here"
   ]
  }
 ],
 "metadata": {
  "kernelspec": {
   "display_name": "ironhack",
   "language": "python",
   "name": "python3"
  },
  "language_info": {
   "codemirror_mode": {
    "name": "ipython",
    "version": 3
   },
   "file_extension": ".py",
   "mimetype": "text/x-python",
   "name": "python",
   "nbconvert_exporter": "python",
   "pygments_lexer": "ipython3",
   "version": "3.10.4"
  },
  "toc": {
   "base_numbering": 1,
   "nav_menu": {},
   "number_sections": true,
   "sideBar": true,
   "skip_h1_title": false,
   "title_cell": "Table of Contents",
   "title_sidebar": "Contents",
   "toc_cell": false,
   "toc_position": {},
   "toc_section_display": true,
   "toc_window_display": true
  },
  "vscode": {
   "interpreter": {
    "hash": "4fb3542bd4955df1568bd30556108f2a509a772a1c7029bb09d83fc983cd9288"
   }
  }
 },
 "nbformat": 4,
 "nbformat_minor": 5
}
